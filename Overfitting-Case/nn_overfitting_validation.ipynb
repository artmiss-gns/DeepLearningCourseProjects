{
 "cells": [
  {
   "cell_type": "markdown",
   "metadata": {},
   "source": [
    "<div dir=\"rtl\" align=\"center\">\n",
    "    <h2><strong> HW1: Overfitting Detection through Validation Set </strong></h2>\n",
    "</div>"
   ]
  },
  {
   "cell_type": "markdown",
   "metadata": {},
   "source": [
    "### **Import libraries**"
   ]
  },
  {
   "cell_type": "code",
   "execution_count": 1,
   "metadata": {},
   "outputs": [],
   "source": [
    "import torch\n",
    "from torch import nn\n",
    "\n",
    "from torchvision import datasets\n",
    "from torchvision.transforms import ToTensor\n",
    "from torch.utils.data import DataLoader\n",
    "\n",
    "from torchmetrics import Accuracy\n",
    "\n",
    "import numpy as np\n",
    "\n",
    "import matplotlib.pyplot as plt"
   ]
  },
  {
   "cell_type": "markdown",
   "metadata": {},
   "source": [
    "### **Load train and test FasionMNIST dataset**"
   ]
  },
  {
   "cell_type": "code",
   "execution_count": 2,
   "metadata": {},
   "outputs": [],
   "source": [
    "BATCH_size = 64"
   ]
  },
  {
   "cell_type": "code",
   "execution_count": 3,
   "metadata": {},
   "outputs": [],
   "source": [
    "train_data = datasets.FashionMNIST(\n",
    "    root=\"./Data\",\n",
    "    train=True,\n",
    "    download=True,\n",
    "    transform=ToTensor()\n",
    ")\n",
    "\n",
    "test_data = datasets.FashionMNIST(\n",
    "    root=\"./Data\",\n",
    "    train=False,\n",
    "    download=True,\n",
    "    transform=ToTensor()\n",
    ")\n",
    "\n",
    "train_dataloader = DataLoader(\n",
    "    dataset=train_data,\n",
    "    batch_size=BATCH_size,\n",
    "    shuffle=True,\n",
    ")\n",
    "\n",
    "test_dataloader = DataLoader(\n",
    "    dataset=test_data,\n",
    "    batch_size=BATCH_size,\n",
    "    shuffle=True,\n",
    ")"
   ]
  },
  {
   "cell_type": "markdown",
   "metadata": {},
   "source": [
    "### **Construct Multi-Layer Neural Network Model**"
   ]
  },
  {
   "cell_type": "code",
   "execution_count": 5,
   "metadata": {},
   "outputs": [],
   "source": [
    "class MLP(nn.Module):\n",
    "    def __init__(self):\n",
    "        super().__init__()\n",
    "        self.linear_layer = nn.Sequential(\n",
    "            nn.Flatten(),\n",
    "            nn.Linear(28**2, 64),\n",
    "            nn.ReLU(),\n",
    "            \n",
    "            nn.Linear(64, 128),\n",
    "            nn.ReLU(),\n",
    "\n",
    "            nn.Linear(128, 256),\n",
    "            nn.ReLU(),\n",
    "\n",
    "            nn.Linear(256, 512),\n",
    "            nn.ReLU(),\n",
    "\n",
    "            nn.Linear(512, 256),\n",
    "            nn.ReLU(),\n",
    "\n",
    "            nn.Linear(256, 128),\n",
    "            nn.ReLU(),\n",
    "\n",
    "            nn.Linear(128, 64),\n",
    "            nn.ReLU(),\n",
    "\n",
    "            nn.Linear(64, 10)\n",
    "        )\n",
    "\n",
    "    def forward(self, x):\n",
    "        z = self.linear_layer(x)\n",
    "        return z"
   ]
  },
  {
   "cell_type": "markdown",
   "metadata": {},
   "source": [
    "### **Define Criterion and Optimizer**"
   ]
  },
  {
   "cell_type": "markdown",
   "metadata": {},
   "source": [
    "the loss and optimizer are defined in the next section"
   ]
  },
  {
   "cell_type": "code",
   "execution_count": 6,
   "metadata": {},
   "outputs": [],
   "source": [
    "LEARNING_RATE = 0.0003\n",
    "EPOCHS = 20"
   ]
  },
  {
   "cell_type": "markdown",
   "metadata": {},
   "source": [
    "### **Training & Evaluating NN Model**"
   ]
  },
  {
   "cell_type": "code",
   "execution_count": 7,
   "metadata": {},
   "outputs": [
    {
     "data": {
      "text/plain": [
       "'cpu'"
      ]
     },
     "execution_count": 7,
     "metadata": {},
     "output_type": "execute_result"
    }
   ],
   "source": [
    "device = 'mps' if torch.backends.mps.is_available() else 'cpu'\n",
    "device = 'cpu' # we choose cpu for this model\n",
    "device"
   ]
  },
  {
   "cell_type": "code",
   "execution_count": 8,
   "metadata": {},
   "outputs": [
    {
     "name": "stdout",
     "output_type": "stream",
     "text": [
      "EPOCH: 0\n",
      "train-loss 0.7371566900257877 || train-acc 0.7248699306296692\n",
      "test-loss 0.5758896397474484 || test-acc 0.8042868589743589\n",
      "\n",
      "EPOCH: 1\n",
      "train-loss 0.4824396713279991 || train-acc 0.8287253201707577\n",
      "test-loss 0.4693947924444309 || test-acc 0.8373397435897436\n",
      "\n",
      "EPOCH: 2\n",
      "train-loss 0.4234547585789651 || train-acc 0.8490028014941302\n",
      "test-loss 0.44887495642671216 || test-acc 0.8425480769230769\n",
      "\n",
      "EPOCH: 3\n",
      "train-loss 0.3800257106918917 || train-acc 0.8624099519743863\n",
      "test-loss 0.42973524819199854 || test-acc 0.8493589743589743\n",
      "\n",
      "EPOCH: 4\n",
      "train-loss 0.35661172153569337 || train-acc 0.8707644076840982\n",
      "test-loss 0.40739890933036804 || test-acc 0.8559695512820513\n",
      "\n",
      "EPOCH: 5\n",
      "train-loss 0.336465196379857 || train-acc 0.8769343649946638\n",
      "test-loss 0.38629406919846165 || test-acc 0.8656850961538461\n",
      "\n",
      "EPOCH: 6\n",
      "train-loss 0.32169756338620514 || train-acc 0.8836212646744931\n",
      "test-loss 0.40308677051693964 || test-acc 0.856270032051282\n",
      "\n",
      "EPOCH: 7\n",
      "train-loss 0.3090052806485043 || train-acc 0.8875900480256137\n",
      "test-loss 0.38798400095831126 || test-acc 0.8669871794871795\n",
      "\n",
      "EPOCH: 8\n",
      "train-loss 0.29650267813923264 || train-acc 0.8925760405549626\n",
      "test-loss 0.3633852719496458 || test-acc 0.8757011217948718\n",
      "\n",
      "EPOCH: 9\n",
      "train-loss 0.2887933085192484 || train-acc 0.8954942636072573\n",
      "test-loss 0.35435449097974175 || test-acc 0.8761017628205128\n",
      "\n",
      "EPOCH: 10\n",
      "train-loss 0.2767727840512896 || train-acc 0.8980622998932765\n",
      "test-loss 0.35167950119536656 || test-acc 0.8806089743589743\n",
      "\n",
      "EPOCH: 11\n",
      "train-loss 0.2696037018788917 || train-acc 0.9010472251867663\n",
      "test-loss 0.3600164688168428 || test-acc 0.8777043269230769\n",
      "\n",
      "EPOCH: 12\n",
      "train-loss 0.2625348748303274 || train-acc 0.9033984791889007\n",
      "test-loss 0.3402421304430717 || test-acc 0.8865184294871795\n",
      "\n",
      "EPOCH: 13\n",
      "train-loss 0.2545231317021867 || train-acc 0.9063667289220918\n",
      "test-loss 0.3447627008725435 || test-acc 0.879707532051282\n",
      "\n",
      "EPOCH: 14\n",
      "train-loss 0.2478286101141887 || train-acc 0.9094850586979722\n",
      "test-loss 0.3505575791574441 || test-acc 0.8813100961538461\n",
      "\n",
      "EPOCH: 15\n",
      "train-loss 0.24483983764542205 || train-acc 0.9086846318036286\n",
      "test-loss 0.3461250244424893 || test-acc 0.8818108974358975\n",
      "\n",
      "EPOCH: 16\n",
      "train-loss 0.23515176392590734 || train-acc 0.9137373265741728\n",
      "test-loss 0.343147347561824 || test-acc 0.8866185897435898\n",
      "\n",
      "EPOCH: 17\n",
      "train-loss 0.2315538553491219 || train-acc 0.9147211846318036\n",
      "test-loss 0.3523832757312518 || test-acc 0.885917467948718\n",
      "\n",
      "EPOCH: 18\n",
      "train-loss 0.22336593688552128 || train-acc 0.9175893810032018\n",
      "test-loss 0.35664578011402714 || test-acc 0.8802083333333334\n",
      "\n",
      "EPOCH: 19\n",
      "train-loss 0.21806540251128065 || train-acc 0.9203074973319103\n",
      "test-loss 0.3478121266294366 || test-acc 0.8871193910256411\n",
      "\n"
     ]
    }
   ],
   "source": [
    "model = MLP().to(device)\n",
    "\n",
    "# defining the optimizer and loss function\n",
    "loss_fn = nn.CrossEntropyLoss()\n",
    "optimizer = torch.optim.Adam(params=model.parameters(), lr=LEARNING_RATE)\n",
    "accuracy_fn = Accuracy(task=\"multiclass\", num_classes=10)\n",
    "\n",
    "\n",
    "train_loss_values, train_acc_values = [], []\n",
    "test_loss_values, test_acc_values = [], []\n",
    "\n",
    "for epoch in range(EPOCHS):\n",
    "    train_batch_loss = 0\n",
    "    train_batch_acc = 0\n",
    "\n",
    "    for batch, (image, label) in enumerate(train_dataloader):\n",
    "        image = image.to(device)\n",
    "        label = label.to(device)\n",
    "        \n",
    "        model.train()\n",
    "        logits = model(image)\n",
    "        train_loss = loss_fn(logits, label)\n",
    "        y_pred = nn.Softmax(dim=1)(logits).argmax(dim=1)\n",
    "\n",
    "\n",
    "        optimizer.zero_grad()\n",
    "        train_loss.backward()\n",
    "        optimizer.step()\n",
    "\n",
    "        train_batch_loss += train_loss.item()\n",
    "        train_batch_acc += accuracy_fn(label, y_pred).item()\n",
    "\n",
    "    train_loss_values.append(train_batch_loss / batch)\n",
    "    train_acc_values.append(train_batch_acc / batch)\n",
    "\n",
    "    test_batch_loss = 0\n",
    "    test_batch_acc = 0\n",
    "    model.eval()\n",
    "    with torch.inference_mode():\n",
    "        for batch, (image, label) in enumerate(test_dataloader):\n",
    "            image = image.to(device)\n",
    "            label = label.to(device)\n",
    "            \n",
    "            test_logits = model(image)\n",
    "            test_loss = loss_fn(test_logits, label)\n",
    "            test_y_pred = nn.Softmax(dim=1)(test_logits).argmax(dim=1)\n",
    "\n",
    "            test_batch_loss += test_loss.item()\n",
    "            test_batch_acc += accuracy_fn(label, test_y_pred).item()\n",
    "            \n",
    "        test_loss_values.append(test_batch_loss / batch)\n",
    "        test_acc_values.append(test_batch_acc / batch)\n",
    "\n",
    "    print(\"EPOCH:\", epoch)\n",
    "    print('train-loss', train_loss_values[epoch], end=\" || \")\n",
    "    print(\"train-acc\", train_acc_values[epoch])\n",
    "    print(\"test-loss\", test_loss_values[epoch], end=\" || \")\n",
    "    print(\"test-acc\", test_acc_values[epoch], end=\"\\n\\n\")\n"
   ]
  },
  {
   "cell_type": "markdown",
   "metadata": {},
   "source": [
    "### **Plot train and validation losses**"
   ]
  },
  {
   "cell_type": "code",
   "execution_count": 9,
   "metadata": {},
   "outputs": [],
   "source": [
    "def learning_curve_plotter(train_loss_values, test_loss_values, EPOCH) :\n",
    "    # plot the learning curves\n",
    "    plt.plot(np.arange(1, EPOCH+1), train_loss_values, label=\"Train loss\")\n",
    "    plt.plot(np.arange(1, EPOCH+1), test_loss_values, label=\"Test loss\")\n",
    "    plt.title(\"Training and test loss curves\")\n",
    "    plt.ylabel(\"Loss\")\n",
    "    plt.xlabel(\"Epochs\")\n",
    "    plt.legend();"
   ]
  },
  {
   "cell_type": "code",
   "execution_count": 10,
   "metadata": {},
   "outputs": [
    {
     "data": {
      "image/png": "[encoded data removed]",
      "text/plain": [
       "<Figure size 640x480 with 1 Axes>"
      ]
     },
     "metadata": {},
     "output_type": "display_data"
    }
   ],
   "source": [
    "learning_curve_plotter(train_loss_values, test_loss_values, EPOCHS)"
   ]
  },
  {
   "cell_type": "markdown",
   "metadata": {},
   "source": [
    "obviously, we are having overfitting problem!"
   ]
  }
 ],
 "metadata": {
  "kernelspec": {
   "display_name": ".venv",
   "language": "python",
   "name": "python3"
  },
  "language_info": {
   "codemirror_mode": {
    "name": "ipython",
    "version": 3
   },
   "file_extension": ".py",
   "mimetype": "text/x-python",
   "name": "python",
   "nbconvert_exporter": "python",
   "pygments_lexer": "ipython3",
   "version": "3.10.13"
  }
 },
 "nbformat": 4,
 "nbformat_minor": 2
}
