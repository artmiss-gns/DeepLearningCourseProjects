{
 "cells": [
  {
   "cell_type": "markdown",
   "metadata": {},
   "source": [
    "<div dir=\"rtl\" align=\"center\">\n",
    "    <h2><strong> HW2: Avoid overfitting through Validation Set </strong></h2>\n",
    "</div>"
   ]
  },
  {
   "cell_type": "code",
   "execution_count": 1,
   "metadata": {},
   "outputs": [],
   "source": [
    "import torch\n",
    "from torch import nn\n",
    "\n",
    "from torchvision import datasets\n",
    "from torchvision.transforms import ToTensor\n",
    "from torch.utils.data import DataLoader\n",
    "\n",
    "from torchmetrics import Accuracy\n",
    "\n",
    "import numpy as np\n",
    "\n",
    "import matplotlib.pyplot as plt"
   ]
  },
  {
   "cell_type": "markdown",
   "metadata": {},
   "source": [
    "### **Load train and test FasionMNIST dataset**"
   ]
  },
  {
   "cell_type": "code",
   "execution_count": 2,
   "metadata": {},
   "outputs": [],
   "source": [
    "BATCH_size = 64"
   ]
  },
  {
   "cell_type": "code",
   "execution_count": 3,
   "metadata": {},
   "outputs": [],
   "source": [
    "train_data = datasets.FashionMNIST(\n",
    "    root=\"./Data\",\n",
    "    train=True,\n",
    "    download=True,\n",
    "    transform=ToTensor()\n",
    ")\n",
    "\n",
    "test_data = datasets.FashionMNIST(\n",
    "    root=\"./Data\",\n",
    "    train=False,\n",
    "    download=True,\n",
    "    transform=ToTensor()\n",
    ")\n",
    "\n",
    "train_dataloader = DataLoader(\n",
    "    dataset=train_data,\n",
    "    batch_size=BATCH_size,\n",
    "    shuffle=True,\n",
    ")\n",
    "\n",
    "test_dataloader = DataLoader(\n",
    "    dataset=test_data,\n",
    "    batch_size=BATCH_size,\n",
    "    shuffle=True,\n",
    ")"
   ]
  },
  {
   "cell_type": "markdown",
   "metadata": {},
   "source": [
    "### **Construct Neural Network Regularized Model**"
   ]
  },
  {
   "cell_type": "markdown",
   "metadata": {},
   "source": [
    "what we are going to use:\n",
    "- l2 regularization\n",
    "- Dropout\n",
    "- BatchNormalization\n",
    "- simpler model"
   ]
  },
  {
   "cell_type": "code",
   "execution_count": 4,
   "metadata": {},
   "outputs": [],
   "source": [
    "class MLP(nn.Module):\n",
    "    def __init__(self):\n",
    "        super().__init__()\n",
    "        self.linear_layer = nn.Sequential(\n",
    "            nn.Flatten(),\n",
    "            nn.Linear(28**2, 64),\n",
    "            nn.BatchNorm1d(64),\n",
    "            nn.ReLU(),\n",
    "\n",
    "            nn.Linear(64, 128),\n",
    "            nn.BatchNorm1d(128),\n",
    "            nn.ReLU(),\n",
    "            \n",
    "            nn.Dropout(0.5),\n",
    "            nn.Linear(128, 256),\n",
    "            nn.BatchNorm1d(256),\n",
    "            nn.ReLU(),\n",
    "\n",
    "            nn.Dropout(0.4),\n",
    "            nn.Linear(256, 128),\n",
    "            nn.BatchNorm1d(128),\n",
    "            nn.ReLU(),\n",
    "            \n",
    "            nn.Linear(128, 10)\n",
    "        )\n",
    "\n",
    "    def forward(self, x):\n",
    "        z = self.linear_layer(x)\n",
    "        return z"
   ]
  },
  {
   "cell_type": "markdown",
   "metadata": {},
   "source": [
    "### **Define Criterion and Optimizer**"
   ]
  },
  {
   "cell_type": "code",
   "execution_count": 5,
   "metadata": {},
   "outputs": [],
   "source": [
    "EPOCHS = 12\n",
    "LEARNING_RATE = 0.0001"
   ]
  },
  {
   "cell_type": "markdown",
   "metadata": {},
   "source": [
    "### **Training & Evaluating NN Model**"
   ]
  },
  {
   "cell_type": "code",
   "execution_count": 7,
   "metadata": {},
   "outputs": [
    {
     "data": {
      "text/plain": [
       "'cpu'"
      ]
     },
     "execution_count": 7,
     "metadata": {},
     "output_type": "execute_result"
    }
   ],
   "source": [
    "device = 'mps' if torch.backends.mps.is_available() else 'cpu' # for non-mac devices, we use 'cuda' instead of 'mps'\n",
    "device = 'cpu' # we are going to use cpu here \n",
    "device"
   ]
  },
  {
   "cell_type": "code",
   "execution_count": 8,
   "metadata": {},
   "outputs": [
    {
     "name": "stdout",
     "output_type": "stream",
     "text": [
      "EPOCH: 0\n",
      "train-loss 1.007435991421835 || train-acc 0.6979889274279616\n",
      "test-loss 0.5424549824152237 || test-acc 0.8239182692307693\n",
      "\n",
      "EPOCH: 1\n",
      "train-loss 0.5567264403261268 || train-acc 0.816135272145144\n",
      "test-loss 0.44432693261366624 || test-acc 0.8513621794871795\n",
      "\n",
      "EPOCH: 2\n",
      "train-loss 0.48181304025484634 || train-acc 0.8367462646744931\n",
      "test-loss 0.4229068329127935 || test-acc 0.8560697115384616\n",
      "\n",
      "EPOCH: 3\n",
      "train-loss 0.4502079004189248 || train-acc 0.8475520277481323\n",
      "test-loss 0.39915109454439235 || test-acc 0.8659855769230769\n",
      "\n",
      "EPOCH: 4\n",
      "train-loss 0.4254187798105665 || train-acc 0.854105522945571\n",
      "test-loss 0.38613323332407534 || test-acc 0.870292467948718\n",
      "\n",
      "EPOCH: 5\n",
      "train-loss 0.40850493299159574 || train-acc 0.8598085645677694\n",
      "test-loss 0.3803917092199509 || test-acc 0.8719951923076923\n",
      "\n",
      "EPOCH: 6\n",
      "train-loss 0.39671809813892317 || train-acc 0.8632604055496265\n",
      "test-loss 0.3726355208036227 || test-acc 0.8746995192307693\n",
      "\n",
      "EPOCH: 7\n",
      "train-loss 0.382200379079663 || train-acc 0.8688133671291356\n",
      "test-loss 0.376864445515168 || test-acc 0.8720953525641025\n",
      "\n",
      "EPOCH: 8\n",
      "train-loss 0.3732019648385277 || train-acc 0.8710312166488794\n",
      "test-loss 0.36652767290480626 || test-acc 0.8762019230769231\n",
      "\n",
      "EPOCH: 9\n",
      "train-loss 0.3597135672001854 || train-acc 0.8754002134471718\n",
      "test-loss 0.3668091949553062 || test-acc 0.8747996794871795\n",
      "\n",
      "EPOCH: 10\n",
      "train-loss 0.35479070293928794 || train-acc 0.8771011205976521\n",
      "test-loss 0.3660379547912341 || test-acc 0.8762019230769231\n",
      "\n",
      "EPOCH: 11\n",
      "train-loss 0.34912300496307486 || train-acc 0.8781183297758804\n",
      "test-loss 0.3535443366720126 || test-acc 0.8798076923076923\n",
      "\n"
     ]
    }
   ],
   "source": [
    "model = MLP().to(device)\n",
    "\n",
    "loss_fn = nn.CrossEntropyLoss()\n",
    "optimizer = torch.optim.Adam(params=model.parameters(), lr=LEARNING_RATE, weight_decay=0.001)\n",
    "accuracy_fn = Accuracy(task=\"multiclass\", num_classes=10)\n",
    "\n",
    "train_loss_values, train_acc_values = [], []\n",
    "test_loss_values, test_acc_values = [], []\n",
    "\n",
    "for epoch in range(EPOCHS):\n",
    "    train_batch_loss = 0\n",
    "    train_batch_acc = 0\n",
    "    for batch, (image, label) in enumerate(train_dataloader):\n",
    "        image = image.to(device)\n",
    "        label = label.to(device)\n",
    "        \n",
    "        model.train()\n",
    "        logits = model(image)\n",
    "        train_loss = loss_fn(logits, label)\n",
    "        y_pred = nn.Softmax(dim=1)(logits).argmax(dim=1)\n",
    "\n",
    "        optimizer.zero_grad()\n",
    "        train_loss.backward()\n",
    "        optimizer.step()\n",
    "\n",
    "        train_batch_loss += train_loss.item()\n",
    "        train_batch_acc += accuracy_fn(label, y_pred).item()\n",
    "\n",
    "    train_loss_values.append(train_batch_loss / batch)\n",
    "    train_acc_values.append(train_batch_acc / batch)\n",
    "\n",
    "    test_batch_loss = 0\n",
    "    test_batch_acc = 0\n",
    "    model.eval()\n",
    "    with torch.inference_mode():\n",
    "        for batch, (image, label) in enumerate(test_dataloader):\n",
    "            image = image.to(device)\n",
    "            label = label.to(device)\n",
    "            \n",
    "            test_logits = model(image)\n",
    "            test_loss = loss_fn(test_logits, label)\n",
    "            test_y_pred = nn.Softmax(dim=1)(test_logits).argmax(dim=1)\n",
    "\n",
    "            test_batch_loss += test_loss.item()\n",
    "            test_batch_acc += accuracy_fn(label, test_y_pred).item()\n",
    "            \n",
    "        test_loss_values.append(test_batch_loss / batch)\n",
    "        test_acc_values.append(test_batch_acc / batch)\n",
    "\n",
    "    print(\"EPOCH:\", epoch)\n",
    "    print('train-loss', train_loss_values[epoch], end=\" || \")\n",
    "    print(\"train-acc\", train_acc_values[epoch])\n",
    "    print(\"test-loss\", test_loss_values[epoch], end=\" || \")\n",
    "    print(\"test-acc\", test_acc_values[epoch], end=\"\\n\\n\")"
   ]
  },
  {
   "cell_type": "markdown",
   "metadata": {},
   "source": [
    "### **Plot train and validation losses**"
   ]
  },
  {
   "cell_type": "code",
   "execution_count": null,
   "metadata": {},
   "outputs": [],
   "source": [
    "def learning_curve_plotter(train_loss_values, test_loss_values, EPOCH) :\n",
    "    # plot the learning curves\n",
    "    plt.plot(np.arange(1, EPOCH+1), train_loss_values, label=\"Train loss\")\n",
    "    plt.plot(np.arange(1, EPOCH+1), test_loss_values, label=\"Test loss\")\n",
    "    plt.title(\"Training and test loss curves\")\n",
    "    plt.ylabel(\"Loss\")\n",
    "    plt.xlabel(\"Epochs\")\n",
    "    plt.legend();"
   ]
  },
  {
   "cell_type": "code",
   "execution_count": 9,
   "metadata": {},
   "outputs": [
    {
     "data": {
      "image/png": "[encoded data removed]",
      "text/plain": [
       "<Figure size 640x480 with 1 Axes>"
      ]
     },
     "metadata": {},
     "output_type": "display_data"
    }
   ],
   "source": [
    "learning_curve_plotter(train_loss_values, test_loss_values, EPOCHS)"
   ]
  },
  {
   "cell_type": "markdown",
   "metadata": {},
   "source": [
    "___"
   ]
  },
  {
   "cell_type": "markdown",
   "metadata": {},
   "source": [
    "## Evaluation"
   ]
  },
  {
   "cell_type": "code",
   "execution_count": 10,
   "metadata": {},
   "outputs": [],
   "source": [
    "def eval(model, dataloader, loss_fn, accuracy_fn, device=\"cpu\"):\n",
    "    model.eval()\n",
    "    batch_accuracy = 0\n",
    "    batch_loss = 0\n",
    "    with torch.inference_mode():\n",
    "        for batch, (images, labels) in enumerate(dataloader):\n",
    "            images = images.to(device)\n",
    "            labels = labels.to(device)\n",
    "            logits = model(images)\n",
    "            y_pred = nn.Softmax(dim=1)(logits)\n",
    "            loss = loss_fn(logits, labels)\n",
    "            acc = accuracy_fn(y_pred.argmax(dim=1), labels).item()\n",
    "\n",
    "            batch_loss += loss.item()\n",
    "            batch_accuracy += acc\n",
    "\n",
    "    return {\n",
    "        \"model\": model.__class__.__name__,\n",
    "        \"loss\": (batch_loss / (batch+1)),\n",
    "        \"acc\": (batch_accuracy / (batch+1)),\n",
    "    }"
   ]
  },
  {
   "cell_type": "code",
   "execution_count": 11,
   "metadata": {},
   "outputs": [
    {
     "data": {
      "text/plain": [
       "{'model': 'MLP', 'loss': 0.35091301571032046, 'acc': 0.8742038216560509}"
      ]
     },
     "execution_count": 11,
     "metadata": {},
     "output_type": "execute_result"
    }
   ],
   "source": [
    "eval(model, test_dataloader, loss_fn, accuracy_fn, device='cpu')"
   ]
  }
 ],
 "metadata": {
  "kernelspec": {
   "display_name": ".venv",
   "language": "python",
   "name": "python3"
  },
  "language_info": {
   "codemirror_mode": {
    "name": "ipython",
    "version": 3
   },
   "file_extension": ".py",
   "mimetype": "text/x-python",
   "name": "python",
   "nbconvert_exporter": "python",
   "pygments_lexer": "ipython3",
   "version": "3.10.13"
  }
 },
 "nbformat": 4,
 "nbformat_minor": 2
}
